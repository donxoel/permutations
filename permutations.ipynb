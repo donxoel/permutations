{
 "cells": [
  {
   "cell_type": "markdown",
   "id": "4fae0f68-3ad8-450a-a24d-2e2aed1f87ed",
   "metadata": {},
   "source": [
    "# Permutations"
   ]
  },
  {
   "cell_type": "code",
   "execution_count": 1,
   "id": "c019e0ff-72e5-4795-8099-7cce04ede1e6",
   "metadata": {},
   "outputs": [],
   "source": [
    "def flip(x, i=-1, ii=-2):\n",
    "    s = str(x)\n",
    "    r = str()\n",
    "    \n",
    "    l = [a for a in s]\n",
    "    l[i], l[ii] = l[ii], l[i]\n",
    "    for b in l:\n",
    "        r += b\n",
    "    return r"
   ]
  },
  {
   "cell_type": "code",
   "execution_count": 2,
   "id": "21a27248-559b-4e37-b71e-fdce0ef2aa9f",
   "metadata": {},
   "outputs": [],
   "source": [
    "def perm(x):\n",
    "    s = str(x)\n",
    "    r = set()\n",
    "    \n",
    "    if len(s) == 1:\n",
    "        r.add(s)\n",
    "    elif len(s) == 2:\n",
    "        r.add(s)\n",
    "        r.add(flip(s))\n",
    "    else:\n",
    "        for a in range(1, len(s)+1):\n",
    "            [r.add(flip(s, i=-len(s), ii=-a)[0]+x) for x in perm(flip(s, i=-len(s), ii=-a)[1:])]\n",
    "\n",
    "    return r"
   ]
  },
  {
   "cell_type": "code",
   "execution_count": 3,
   "id": "7437583c-c9a1-40db-b0cd-547820eb2edc",
   "metadata": {},
   "outputs": [
    {
     "data": {
      "text/plain": [
       "{'123', '132', '213', '231', '312', '321'}"
      ]
     },
     "execution_count": 3,
     "metadata": {},
     "output_type": "execute_result"
    }
   ],
   "source": [
    "perm(123)"
   ]
  },
  {
   "cell_type": "markdown",
   "id": "abe5bfa7-8eec-4fb3-bef4-a7f8365fee42",
   "metadata": {
    "tags": []
   },
   "source": [
    "___\n",
    "# How I got there"
   ]
  },
  {
   "cell_type": "code",
   "execution_count": 4,
   "id": "7ec33f15-561f-4cc4-98a6-c3f74324399d",
   "metadata": {},
   "outputs": [],
   "source": [
    "def perm2(x):\n",
    "    s = str(x)\n",
    "    r = set()\n",
    "    \n",
    "    r.add(s)\n",
    "    \n",
    "    r.add(flip(s, i=-2, ii=-1))\n",
    "    \n",
    "    return r"
   ]
  },
  {
   "cell_type": "code",
   "execution_count": 5,
   "id": "ae6addb2-e35c-4a38-989a-c82f6ac2028c",
   "metadata": {},
   "outputs": [],
   "source": [
    "def perm3(x):\n",
    "    s = str(x)\n",
    "    r = set()\n",
    "    \n",
    "    [r.add(s[0]+x) for x in perm2(s[1:])]\n",
    "\n",
    "    [r.add(flip(s, i=-3, ii=-2)[0]+x) for x in perm2(flip(s, i=-3, ii=-2)[1:])]\n",
    "\n",
    "    [r.add(flip(s, i=-3, ii=-1)[0]+x) for x in perm2(flip(s, i=-3, ii=-1)[1:])]\n",
    "    \n",
    "    return r"
   ]
  },
  {
   "cell_type": "code",
   "execution_count": 6,
   "id": "72115288-d9f5-41d4-80c3-e81d26aab4de",
   "metadata": {},
   "outputs": [],
   "source": [
    "def perm4(x):\n",
    "    s = str(x)\n",
    "    r = set()\n",
    "\n",
    "    [r.add(s[0]+x) for x in perm3(s[1:])]\n",
    "\n",
    "    [r.add(flip(s, i=-4, ii=-3)[0]+x) for x in perm3(flip(s, i=-4, ii=-3)[1:])]\n",
    "\n",
    "    [r.add(flip(s, i=-4, ii=-2)[0]+x) for x in perm3(flip(s, i=-4, ii=-2)[1:])]\n",
    "\n",
    "    [r.add(flip(s, i=-4, ii=-1)[0]+x) for x in perm3(flip(s, i=-4, ii=-1)[1:])]\n",
    "    \n",
    "    return r"
   ]
  },
  {
   "cell_type": "code",
   "execution_count": 7,
   "id": "7c71aba5-8b61-4bfe-8d0a-c6acdb1200f9",
   "metadata": {},
   "outputs": [],
   "source": [
    "def perm5(x):\n",
    "    s = str(x)\n",
    "    r = set()\n",
    "\n",
    "    [r.add(s[0]+x) for x in perm4(s[1:])]\n",
    "\n",
    "    [r.add(flip(s, i=-5, ii=-4)[0]+x) for x in perm4(flip(s, i=-5, ii=-4)[1:])]\n",
    "\n",
    "    [r.add(flip(s, i=-5, ii=-3)[0]+x) for x in perm4(flip(s, i=-5, ii=-3)[1:])]\n",
    "\n",
    "    [r.add(flip(s, i=-5, ii=-2)[0]+x) for x in perm4(flip(s, i=-5, ii=-2)[1:])]\n",
    "\n",
    "    [r.add(flip(s, i=-5, ii=-1)[0]+x) for x in perm4(flip(s, i=-5, ii=-1)[1:])]\n",
    "    \n",
    "    return r"
   ]
  },
  {
   "cell_type": "code",
   "execution_count": 8,
   "id": "fa41d7f4-59f6-45be-91ec-d6ce74275300",
   "metadata": {},
   "outputs": [],
   "source": [
    "def perm6(x):\n",
    "    s = str(x)\n",
    "    r = set()\n",
    "\n",
    "    [r.add(s[0]+x) for x in perm5(s[1:])]\n",
    "\n",
    "    [r.add(flip(s, i=-6, ii=-5)[0]+x) for x in perm5(flip(s, i=-6, ii=-5)[1:])]\n",
    "\n",
    "    [r.add(flip(s, i=-6, ii=-4)[0]+x) for x in perm5(flip(s, i=-6, ii=-4)[1:])]\n",
    "\n",
    "    [r.add(flip(s, i=-6, ii=-3)[0]+x) for x in perm5(flip(s, i=-6, ii=-3)[1:])]\n",
    "\n",
    "    [r.add(flip(s, i=-6, ii=-2)[0]+x) for x in perm5(flip(s, i=-6, ii=-2)[1:])]\n",
    "\n",
    "    [r.add(flip(s, i=-6, ii=-1)[0]+x) for x in perm5(flip(s, i=-6, ii=-1)[1:])]\n",
    "    \n",
    "    return r"
   ]
  },
  {
   "cell_type": "code",
   "execution_count": 9,
   "id": "a132144d-8856-4c77-9bc5-ecb11f3fa687",
   "metadata": {},
   "outputs": [
    {
     "data": {
      "text/plain": [
       "720"
      ]
     },
     "execution_count": 9,
     "metadata": {},
     "output_type": "execute_result"
    }
   ],
   "source": [
    "len(perm6(\"123456\"))"
   ]
  }
 ],
 "metadata": {
  "kernelspec": {
   "display_name": "Python 3 (ipykernel)",
   "language": "python",
   "name": "python3"
  },
  "language_info": {
   "codemirror_mode": {
    "name": "ipython",
    "version": 3
   },
   "file_extension": ".py",
   "mimetype": "text/x-python",
   "name": "python",
   "nbconvert_exporter": "python",
   "pygments_lexer": "ipython3",
   "version": "3.9.12"
  }
 },
 "nbformat": 4,
 "nbformat_minor": 5
}
