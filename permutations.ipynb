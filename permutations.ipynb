{
 "cells": [
  {
   "cell_type": "markdown",
   "id": "4fae0f68-3ad8-450a-a24d-2e2aed1f87ed",
   "metadata": {},
   "source": [
    "# Permutations"
   ]
  },
  {
   "cell_type": "code",
   "execution_count": 1,
   "id": "c019e0ff-72e5-4795-8099-7cce04ede1e6",
   "metadata": {},
   "outputs": [],
   "source": [
    "def flip(x, i=-1, ii=-2):\n",
    "    r = str()\n",
    "    x = str(x)\n",
    "    l = [x for x in x]\n",
    "    l[i], l[ii] = l[ii], l[i]\n",
    "    for x in l:\n",
    "        r += x\n",
    "    return r"
   ]
  },
  {
   "cell_type": "code",
   "execution_count": 2,
   "id": "21a27248-559b-4e37-b71e-fdce0ef2aa9f",
   "metadata": {},
   "outputs": [],
   "source": [
    "def perm(x):\n",
    "    s = str(x)\n",
    "    r = set()\n",
    "    \n",
    "    if len(s) == 1:\n",
    "        return set(s)\n",
    "    elif len(s) == 2:\n",
    "        r.add(s)\n",
    "        r.add(flip(s))\n",
    "    else:\n",
    "        for a in range(1, len(s)+1):\n",
    "            [r.add(flip(s, i=-len(s), ii=-a)[0]+x) for x in perm(flip(s, i=-len(s), ii=-a)[1:])]\n",
    "\n",
    "    return r"
   ]
  },
  {
   "cell_type": "code",
   "execution_count": 3,
   "id": "7437583c-c9a1-40db-b0cd-547820eb2edc",
   "metadata": {},
   "outputs": [
    {
     "data": {
      "text/plain": [
       "{'123', '132', '213', '231', '312', '321'}"
      ]
     },
     "execution_count": 3,
     "metadata": {},
     "output_type": "execute_result"
    }
   ],
   "source": [
    "perm(123)"
   ]
  }
 ],
 "metadata": {
  "kernelspec": {
   "display_name": "Python 3 (ipykernel)",
   "language": "python",
   "name": "python3"
  },
  "language_info": {
   "codemirror_mode": {
    "name": "ipython",
    "version": 3
   },
   "file_extension": ".py",
   "mimetype": "text/x-python",
   "name": "python",
   "nbconvert_exporter": "python",
   "pygments_lexer": "ipython3",
   "version": "3.9.12"
  }
 },
 "nbformat": 4,
 "nbformat_minor": 5
}
